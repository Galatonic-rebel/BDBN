{
  "nbformat": 4,
  "nbformat_minor": 0,
  "metadata": {
    "colab": {
      "provenance": [],
      "authorship_tag": "ABX9TyN7trAHY1cpfd6NHV9oASwD",
      "include_colab_link": true
    },
    "kernelspec": {
      "name": "python3",
      "display_name": "Python 3"
    },
    "language_info": {
      "name": "python"
    }
  },
  "cells": [
    {
      "cell_type": "markdown",
      "metadata": {
        "id": "view-in-github",
        "colab_type": "text"
      },
      "source": [
        "<a href=\"https://colab.research.google.com/github/Galatonic-rebel/BDBN/blob/main/Basics_1.ipynb\" target=\"_parent\"><img src=\"https://colab.research.google.com/assets/colab-badge.svg\" alt=\"Open In Colab\"/></a>"
      ]
    },
    {
      "cell_type": "code",
      "execution_count": 1,
      "metadata": {
        "id": "fhA2UB_zx_xf"
      },
      "outputs": [],
      "source": [
        "#import necessary libraries\n",
        "import numpy as np\n",
        "import matplotlib.pyplot as plt\n",
        "import networkx as nx"
      ]
    },
    {
      "cell_type": "code",
      "source": [
        "UnDig = nx.Graph()\n",
        "edges=[('A','B'),('A','C'),('A','D'),('B','C'),('B','D'),('B','F'),\n",
        "         ('B','G'),('C','D'),('D','E'),('D','F'),('E','F') ]\n",
        "UnDig.add_edges_from(edges)"
      ],
      "metadata": {
        "id": "FJD_AsmdzAKt"
      },
      "execution_count": 2,
      "outputs": []
    },
    {
      "cell_type": "code",
      "source": [
        "print(UnDig.nodes)\n",
        "print(UnDig.number_of_nodes())\n",
        "print(UnDig.edges)\n",
        "print(UnDig.number_of_edges())"
      ],
      "metadata": {
        "colab": {
          "base_uri": "https://localhost:8080/"
        },
        "id": "gaiCWBSlz5KI",
        "outputId": "b99334f6-4005-4207-974c-41108ec1e5b3"
      },
      "execution_count": 4,
      "outputs": [
        {
          "output_type": "stream",
          "name": "stdout",
          "text": [
            "['A', 'B', 'C', 'D', 'F', 'G', 'E']\n",
            "7\n",
            "[('A', 'B'), ('A', 'C'), ('A', 'D'), ('B', 'C'), ('B', 'D'), ('B', 'F'), ('B', 'G'), ('C', 'D'), ('D', 'E'), ('D', 'F'), ('F', 'E')]\n",
            "11\n"
          ]
        }
      ]
    },
    {
      "cell_type": "code",
      "source": [
        "list(UnDig.adj['B'])"
      ],
      "metadata": {
        "colab": {
          "base_uri": "https://localhost:8080/"
        },
        "id": "N-MTQwk30kPP",
        "outputId": "c1125a6f-87fe-4776-b182-5ff5acfd1d85"
      },
      "execution_count": 10,
      "outputs": [
        {
          "output_type": "execute_result",
          "data": {
            "text/plain": [
              "['A', 'C', 'D', 'F', 'G']"
            ]
          },
          "metadata": {},
          "execution_count": 10
        }
      ]
    },
    {
      "cell_type": "code",
      "source": [
        "Dig = nx.DiGraph()\n",
        "edges=[('A','B'),('A','C'),('A','D'),('B','C'),('B','D'),('B','F'),\n",
        "         ('B','G'),('C','D'),('D','E'),('D','F'),('E','F') ]\n",
        "Dig.add_edges_from(edges)"
      ],
      "metadata": {
        "id": "0-uX9qdT0rrf"
      },
      "execution_count": 11,
      "outputs": []
    },
    {
      "cell_type": "code",
      "source": [
        "Dig.edges\n",
        "list(Dig.adj['B'])"
      ],
      "metadata": {
        "colab": {
          "base_uri": "https://localhost:8080/"
        },
        "id": "BmAU170m1FzG",
        "outputId": "023809fe-9750-4ecc-e221-a422bec7e280"
      },
      "execution_count": 14,
      "outputs": [
        {
          "output_type": "execute_result",
          "data": {
            "text/plain": [
              "['C', 'D', 'F', 'G']"
            ]
          },
          "metadata": {},
          "execution_count": 14
        }
      ]
    },
    {
      "cell_type": "code",
      "source": [
        "Dig = nx.DiGraph()\n",
        "edges=[('A','B'),('A','C'),('A','D'),('B','C'),('B','D'),('B','F'),\n",
        "         ('B','G'),('C','D'),('D','E'),('D','F'),('E','F') ]\n",
        "Dig.add_edges_from(edges)"
      ],
      "metadata": {
        "id": "Unwj1VTz1IXN"
      },
      "execution_count": null,
      "outputs": []
    }
  ]
}