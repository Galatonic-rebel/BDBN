{
  "nbformat": 4,
  "nbformat_minor": 0,
  "metadata": {
    "colab": {
      "provenance": [],
      "mount_file_id": "1pJ7bJYIGLCqXuXp0ZONEtDN6nh983YXl",
      "authorship_tag": "ABX9TyPMwEW4qhPPCZWCrj3y5F+h",
      "include_colab_link": true
    },
    "kernelspec": {
      "name": "python3",
      "display_name": "Python 3"
    },
    "language_info": {
      "name": "python"
    }
  },
  "cells": [
    {
      "cell_type": "markdown",
      "metadata": {
        "id": "view-in-github",
        "colab_type": "text"
      },
      "source": [
        "<a href=\"https://colab.research.google.com/github/Galatonic-rebel/BDBN/blob/main/Basics_1.ipynb\" target=\"_parent\"><img src=\"https://colab.research.google.com/assets/colab-badge.svg\" alt=\"Open In Colab\"/></a>"
      ]
    },
    {
      "cell_type": "code",
      "execution_count": 1,
      "metadata": {
        "id": "fhA2UB_zx_xf"
      },
      "outputs": [],
      "source": [
        "#import necessary libraries\n",
        "import numpy as np\n",
        "import matplotlib.pyplot as plt\n",
        "import networkx as nx"
      ]
    },
    {
      "cell_type": "code",
      "source": [
        "UnDig = nx.Graph()\n",
        "edges=[('A','B'),('A','C'),('A','D'),('B','C'),('B','D'),('B','F'),\n",
        "         ('B','G'),('C','D'),('D','E'),('D','F'),('E','F') ]\n",
        "UnDig.add_edges_from(edges)"
      ],
      "metadata": {
        "id": "FJD_AsmdzAKt"
      },
      "execution_count": 2,
      "outputs": []
    },
    {
      "cell_type": "code",
      "source": [
        "print(UnDig.nodes)\n",
        "print(UnDig.number_of_nodes())\n",
        "print(UnDig.edges)\n",
        "print(UnDig.number_of_edges())"
      ],
      "metadata": {
        "colab": {
          "base_uri": "https://localhost:8080/"
        },
        "id": "gaiCWBSlz5KI",
        "outputId": "b99334f6-4005-4207-974c-41108ec1e5b3"
      },
      "execution_count": 4,
      "outputs": [
        {
          "output_type": "stream",
          "name": "stdout",
          "text": [
            "['A', 'B', 'C', 'D', 'F', 'G', 'E']\n",
            "7\n",
            "[('A', 'B'), ('A', 'C'), ('A', 'D'), ('B', 'C'), ('B', 'D'), ('B', 'F'), ('B', 'G'), ('C', 'D'), ('D', 'E'), ('D', 'F'), ('F', 'E')]\n",
            "11\n"
          ]
        }
      ]
    },
    {
      "cell_type": "code",
      "source": [
        "list(UnDig.adj['B'])"
      ],
      "metadata": {
        "colab": {
          "base_uri": "https://localhost:8080/"
        },
        "id": "N-MTQwk30kPP",
        "outputId": "c1125a6f-87fe-4776-b182-5ff5acfd1d85"
      },
      "execution_count": 10,
      "outputs": [
        {
          "output_type": "execute_result",
          "data": {
            "text/plain": [
              "['A', 'C', 'D', 'F', 'G']"
            ]
          },
          "metadata": {},
          "execution_count": 10
        }
      ]
    },
    {
      "cell_type": "code",
      "source": [
        "Dig = nx.DiGraph()\n",
        "edges=[('A','B'),('A','C'),('A','D'),('B','C'),('B','D'),('B','F'),\n",
        "         ('B','G'),('C','D'),('D','E'),('D','F'),('E','F') ]\n",
        "Dig.add_edges_from(edges)"
      ],
      "metadata": {
        "id": "0-uX9qdT0rrf"
      },
      "execution_count": 11,
      "outputs": []
    },
    {
      "cell_type": "code",
      "source": [
        "Dig.edges\n",
        "list(Dig.adj['B'])"
      ],
      "metadata": {
        "colab": {
          "base_uri": "https://localhost:8080/"
        },
        "id": "BmAU170m1FzG",
        "outputId": "023809fe-9750-4ecc-e221-a422bec7e280"
      },
      "execution_count": 14,
      "outputs": [
        {
          "output_type": "execute_result",
          "data": {
            "text/plain": [
              "['C', 'D', 'F', 'G']"
            ]
          },
          "metadata": {},
          "execution_count": 14
        }
      ]
    },
    {
      "cell_type": "code",
      "source": [
        "Dig = nx.DiGraph()\n",
        "edges=[('A','B',3),('A','C',5),('A','D',7),('B','C',8),('B','D',1),('B','F',1),\n",
        "         ('B','G',4),('C','D',9),('D','E',2),('D','F',6),('E','F',8) ]\n",
        "Dig.add_weighted_edges_from(edges)"
      ],
      "metadata": {
        "id": "Unwj1VTz1IXN"
      },
      "execution_count": 16,
      "outputs": []
    },
    {
      "cell_type": "code",
      "source": [
        "!pwd"
      ],
      "metadata": {
        "colab": {
          "base_uri": "https://localhost:8080/"
        },
        "id": "t1_TvU1r5pLD",
        "outputId": "1f0aaa3b-f775-4847-a522-c09ad4a32824"
      },
      "execution_count": 21,
      "outputs": [
        {
          "output_type": "stream",
          "name": "stdout",
          "text": [
            "/content\n"
          ]
        }
      ]
    },
    {
      "cell_type": "code",
      "source": [
        "!ls"
      ],
      "metadata": {
        "colab": {
          "base_uri": "https://localhost:8080/"
        },
        "id": "WxYRlm4U5xfm",
        "outputId": "1db0041b-616c-4101-8a39-5b8ffb0e5696"
      },
      "execution_count": 23,
      "outputs": [
        {
          "output_type": "stream",
          "name": "stdout",
          "text": [
            "drive  sample_data\n"
          ]
        }
      ]
    },
    {
      "cell_type": "code",
      "source": [
        "!find /content -name \"*.ipynb\"\n"
      ],
      "metadata": {
        "colab": {
          "base_uri": "https://localhost:8080/"
        },
        "id": "-74w_dWG52YW",
        "outputId": "4e29ceb8-bf2b-4379-8ed9-3a25089187a7"
      },
      "execution_count": 24,
      "outputs": [
        {
          "output_type": "stream",
          "name": "stdout",
          "text": [
            "/content/drive/MyDrive/Statistics2 copy.ipynb\n",
            "/content/drive/MyDrive/Statistics2 (M.S.Puja sri).ipynb\n",
            "/content/drive/MyDrive/Colab Notebooks/Copy of BBC_Location ID_Weather_Scraping.ipynb\n",
            "/content/drive/MyDrive/Colab Notebooks/Copy of BBC_weather_scrape.ipynb\n",
            "/content/drive/MyDrive/Colab Notebooks/Copy of Copy of PDF_Scraping.ipynb\n",
            "/content/drive/MyDrive/Colab Notebooks/Copy of Geocoding_using_Nominatim.ipynb\n",
            "/content/drive/MyDrive/Colab Notebooks/Copy of WebScrapingIMDb.ipynb\n",
            "/content/drive/MyDrive/Colab Notebooks/Copy of Copy of WebScrapingIMDb.ipynb\n",
            "/content/drive/MyDrive/Colab Notebooks/Copy of Week_1_Programming.ipynb\n",
            "/content/drive/MyDrive/Colab Notebooks/Copy of MLP_Week_1_01_Data_Loading.ipynb\n",
            "/content/drive/MyDrive/Colab Notebooks/OPPE 1 Practice.ipynb\n",
            "/content/drive/MyDrive/Colab Notebooks/Copy of c_NPPE_08_Dec.ipynb\n",
            "/content/drive/MyDrive/Colab Notebooks/Copy of MLP_Week_5_MNIST_Perceptron.ipynb\n",
            "/content/drive/MyDrive/Colab Notebooks/OPPE 2 Practice.ipynb\n",
            "/content/drive/MyDrive/Colab Notebooks/Copy of ML_questions.ipynb\n",
            "/content/drive/MyDrive/Colab Notebooks/downloading-file-and-directory-from-kaggle.ipynb\n",
            "/content/drive/MyDrive/Colab Notebooks/Copy of Week-2-Programming-Assignments (1).ipynb\n",
            "/content/drive/MyDrive/Colab Notebooks/Copy of Week-2-Programming-Assignments.ipynb\n",
            "/content/drive/MyDrive/Colab Notebooks/21f1004587 (2).ipynb\n",
            "/content/drive/MyDrive/Colab Notebooks/PA-1_21F1004587.ipynb\n",
            "/content/drive/MyDrive/Colab Notebooks/21F1004587.ipynb\n",
            "/content/drive/MyDrive/Colab Notebooks/21f1004587 (1).ipynb\n",
            "/content/drive/MyDrive/Colab Notebooks/21f1004587.ipynb\n",
            "/content/drive/MyDrive/Colab Notebooks/Copy of Week-3-Eng-Tam-Translation-Assignment (2).ipynb\n",
            "/content/drive/MyDrive/Colab Notebooks/Copy of Week-3-Eng-Tam-Translation-Assignment (1).ipynb\n",
            "/content/drive/MyDrive/Colab Notebooks/Copy of Week-3-Eng-Tam-Translation-Assignment.ipynb\n",
            "/content/drive/MyDrive/Colab Notebooks/Basics.ipynb\n",
            "/content/drive/MyDrive/Colab Notebooks/Basics-1.ipynb\n",
            "/content/drive/MyDrive/ML workspace/End-to-End ML Project.ipynb\n"
          ]
        }
      ]
    },
    {
      "cell_type": "code",
      "source": [
        "!git clone https://github.com/Galatonic-rebel/BDBN.git"
      ],
      "metadata": {
        "colab": {
          "base_uri": "https://localhost:8080/"
        },
        "id": "PKmIPZuF3Tnx",
        "outputId": "308c3364-01e3-47b9-d9ec-c3c754151615"
      },
      "execution_count": 26,
      "outputs": [
        {
          "output_type": "stream",
          "name": "stdout",
          "text": [
            "Cloning into 'BDBN'...\n",
            "remote: Enumerating objects: 9, done.\u001b[K\n",
            "remote: Counting objects: 100% (9/9), done.\u001b[K\n",
            "remote: Compressing objects: 100% (8/8), done.\u001b[K\n",
            "remote: Total 9 (delta 0), reused 0 (delta 0), pack-reused 0 (from 0)\u001b[K\n",
            "Receiving objects: 100% (9/9), 950.30 KiB | 2.99 MiB/s, done.\n"
          ]
        }
      ]
    },
    {
      "cell_type": "code",
      "source": [
        "!find /content -name \"*.ipynb\""
      ],
      "metadata": {
        "colab": {
          "base_uri": "https://localhost:8080/"
        },
        "id": "IL9IxXYV3IC3",
        "outputId": "039bc27b-b2b4-481e-8c9a-5357fe9c8728"
      },
      "execution_count": 27,
      "outputs": [
        {
          "output_type": "stream",
          "name": "stdout",
          "text": [
            "/content/BDBN/Basics_1.ipynb\n",
            "/content/BDBN/Basics.ipynb\n",
            "/content/drive/MyDrive/Statistics2 copy.ipynb\n",
            "/content/drive/MyDrive/Statistics2 (M.S.Puja sri).ipynb\n",
            "/content/drive/MyDrive/Colab Notebooks/Copy of BBC_Location ID_Weather_Scraping.ipynb\n",
            "/content/drive/MyDrive/Colab Notebooks/Copy of BBC_weather_scrape.ipynb\n",
            "/content/drive/MyDrive/Colab Notebooks/Copy of Copy of PDF_Scraping.ipynb\n",
            "/content/drive/MyDrive/Colab Notebooks/Copy of Geocoding_using_Nominatim.ipynb\n",
            "/content/drive/MyDrive/Colab Notebooks/Copy of WebScrapingIMDb.ipynb\n",
            "/content/drive/MyDrive/Colab Notebooks/Copy of Copy of WebScrapingIMDb.ipynb\n",
            "/content/drive/MyDrive/Colab Notebooks/Copy of Week_1_Programming.ipynb\n",
            "/content/drive/MyDrive/Colab Notebooks/Copy of MLP_Week_1_01_Data_Loading.ipynb\n",
            "/content/drive/MyDrive/Colab Notebooks/OPPE 1 Practice.ipynb\n",
            "/content/drive/MyDrive/Colab Notebooks/Copy of c_NPPE_08_Dec.ipynb\n",
            "/content/drive/MyDrive/Colab Notebooks/Copy of MLP_Week_5_MNIST_Perceptron.ipynb\n",
            "/content/drive/MyDrive/Colab Notebooks/OPPE 2 Practice.ipynb\n",
            "/content/drive/MyDrive/Colab Notebooks/Copy of ML_questions.ipynb\n",
            "/content/drive/MyDrive/Colab Notebooks/downloading-file-and-directory-from-kaggle.ipynb\n",
            "/content/drive/MyDrive/Colab Notebooks/Copy of Week-2-Programming-Assignments (1).ipynb\n",
            "/content/drive/MyDrive/Colab Notebooks/Copy of Week-2-Programming-Assignments.ipynb\n",
            "/content/drive/MyDrive/Colab Notebooks/21f1004587 (2).ipynb\n",
            "/content/drive/MyDrive/Colab Notebooks/PA-1_21F1004587.ipynb\n",
            "/content/drive/MyDrive/Colab Notebooks/21F1004587.ipynb\n",
            "/content/drive/MyDrive/Colab Notebooks/21f1004587 (1).ipynb\n",
            "/content/drive/MyDrive/Colab Notebooks/21f1004587.ipynb\n",
            "/content/drive/MyDrive/Colab Notebooks/Copy of Week-3-Eng-Tam-Translation-Assignment (2).ipynb\n",
            "/content/drive/MyDrive/Colab Notebooks/Copy of Week-3-Eng-Tam-Translation-Assignment (1).ipynb\n",
            "/content/drive/MyDrive/Colab Notebooks/Copy of Week-3-Eng-Tam-Translation-Assignment.ipynb\n",
            "/content/drive/MyDrive/Colab Notebooks/Basics.ipynb\n",
            "/content/drive/MyDrive/Colab Notebooks/Basics-1.ipynb\n",
            "/content/drive/MyDrive/ML workspace/End-to-End ML Project.ipynb\n"
          ]
        }
      ]
    },
    {
      "cell_type": "code",
      "source": [
        "!mv /content/BDBN/Basics_1.ipynb /content/BDBN/"
      ],
      "metadata": {
        "colab": {
          "base_uri": "https://localhost:8080/"
        },
        "id": "ncNuyErl7krW",
        "outputId": "4e5d86e3-72c9-45e1-ef64-e22f4cbe964a"
      },
      "execution_count": 28,
      "outputs": [
        {
          "output_type": "stream",
          "name": "stdout",
          "text": [
            "mv: '/content/BDBN/Basics_1.ipynb' and '/content/BDBN/Basics_1.ipynb' are the same file\n"
          ]
        }
      ]
    },
    {
      "cell_type": "code",
      "source": [
        "%cd /content/BDBN/\n",
        "!git add ."
      ],
      "metadata": {
        "colab": {
          "base_uri": "https://localhost:8080/"
        },
        "id": "n1S5sYht739v",
        "outputId": "c351e29e-3cd8-4dea-f16c-ddad07bc55c3"
      },
      "execution_count": 30,
      "outputs": [
        {
          "output_type": "stream",
          "name": "stdout",
          "text": [
            "/content/BDBN\n"
          ]
        }
      ]
    },
    {
      "cell_type": "code",
      "source": [
        "!git commit -m \"Added weighted graphs\""
      ],
      "metadata": {
        "colab": {
          "base_uri": "https://localhost:8080/"
        },
        "id": "Q50lE4Kh3JQO",
        "outputId": "d4db796c-5a67-4dc9-caf5-12b4359676ab"
      },
      "execution_count": 33,
      "outputs": [
        {
          "output_type": "stream",
          "name": "stdout",
          "text": [
            "On branch main\n",
            "Your branch is up to date with 'origin/main'.\n",
            "\n",
            "nothing to commit, working tree clean\n"
          ]
        }
      ]
    },
    {
      "cell_type": "code",
      "source": [
        "!git config --global user.email \"puja290302sri@gmail.com\"\n",
        "!git config --global user.name \"Puja Sri\""
      ],
      "metadata": {
        "id": "6h9VeCDZ8MXf"
      },
      "execution_count": 35,
      "outputs": []
    },
    {
      "cell_type": "code",
      "source": [
        "!git push origin main"
      ],
      "metadata": {
        "colab": {
          "base_uri": "https://localhost:8080/"
        },
        "id": "p6Oi1vAh8bde",
        "outputId": "6ee2f03a-0991-4e70-d719-6bd3aaf4cd9d"
      },
      "execution_count": 36,
      "outputs": [
        {
          "output_type": "stream",
          "name": "stdout",
          "text": [
            "fatal: could not read Username for 'https://github.com': No such device or address\n"
          ]
        }
      ]
    },
    {
      "cell_type": "code",
      "source": [],
      "metadata": {
        "id": "hwo-J31m8gW7"
      },
      "execution_count": null,
      "outputs": []
    }
  ]
}